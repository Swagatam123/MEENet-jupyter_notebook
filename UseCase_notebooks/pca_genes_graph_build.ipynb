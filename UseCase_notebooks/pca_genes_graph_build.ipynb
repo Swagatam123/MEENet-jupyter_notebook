{
 "cells": [
  {
   "cell_type": "code",
   "execution_count": 1,
   "metadata": {},
   "outputs": [
    {
     "name": "stderr",
     "output_type": "stream",
     "text": [
      "paramiko missing, opening SSH/SCP/SFTP paths will be disabled.  `pip install paramiko` to suppress\n"
     ]
    }
   ],
   "source": [
    "from node2vec import Node2Vec\n",
    "import networkx as nx\n",
    "#import igraph\n",
    "import matplotlib as plt\n",
    "import csv\n",
    "import pandas as pd\n",
    "from sklearn.neighbors import kneighbors_graph\n",
    "import numpy as np\n",
    "import scanpy as sc\n",
    "from annoy import AnnoyIndex\n",
    "from sklearn.manifold import TSNE\n",
    "import seaborn as sns \n",
    "import umap.umap_ as umap\n",
    "from sklearn import preprocessing\n",
    "from sklearn.decomposition import PCA\n",
    "import subprocess\n",
    "import os"
   ]
  },
  {
   "cell_type": "markdown",
   "metadata": {},
   "source": [
    "# DEFAULT PARAMETER SETTING"
   ]
  },
  {
   "cell_type": "code",
   "execution_count": 2,
   "metadata": {},
   "outputs": [],
   "source": [
    "sc.settings.verbosity = 2\n",
    "np.set_printoptions(precision=2)\n",
    "reducer = umap.UMAP(random_state=42)\n",
    "G_normalized = nx.Graph()"
   ]
  },
  {
   "cell_type": "markdown",
   "metadata": {},
   "source": [
    "# READ 10X DATA"
   ]
  },
  {
   "cell_type": "code",
   "execution_count": 3,
   "metadata": {},
   "outputs": [
    {
     "name": "stdout",
     "output_type": "stream",
     "text": [
      "... reading from cache file cache\\G-Thesis-Dropclust-dataset-filtered_gene_bc_matrices-hg19-matrix.h5ad\n"
     ]
    }
   ],
   "source": [
    "adata = sc.read_10x_mtx(\n",
    "'G:/Thesis/Dropclust/dataset/filtered_gene_bc_matrices/hg19/',  # the directory with the `.mtx` file\n",
    "var_names='gene_symbols',                  # use gene symbols for the variable names (variables-axis index)\n",
    "cache=True) "
   ]
  },
  {
   "cell_type": "markdown",
   "metadata": {},
   "source": [
    "# FILTER CELL AND GENES"
   ]
  },
  {
   "cell_type": "code",
   "execution_count": null,
   "metadata": {},
   "outputs": [],
   "source": [
    "#scanpy package is used for the preprocessing steps where filtering of cells is done by \n",
    "#setting the min count to 3 followed by filtering of the genes with min cell count =3.\n",
    "#This is followed by extraction of the top 1000 variable genes"
   ]
  },
  {
   "cell_type": "code",
   "execution_count": 5,
   "metadata": {},
   "outputs": [],
   "source": [
    "t=sc.pp.filter_cells(adata,min_counts=3)\n",
    "sc.pp.filter_genes(adata,min_cells=3)\n",
    "sc.pp.log1p(adata)\n",
    "sc.pp.highly_variable_genes(adata,n_top_genes=1000)\n",
    "variable_genes=adata.var['highly_variable']\n",
    "variable_gene_list = []\n",
    "for ind in variable_genes.index:\n",
    "    if variable_genes[ind]==False:\n",
    "        variable_gene_list.append(ind)"
   ]
  },
  {
   "cell_type": "markdown",
   "metadata": {},
   "source": [
    "# NORMALIZATION"
   ]
  },
  {
   "cell_type": "code",
   "execution_count": null,
   "metadata": {},
   "outputs": [],
   "source": [
    "#Total  Normalixation from the scanpy package is performed with target sum equals to 1, where after normalization the\n",
    "#total sum of normalized values of all cells is equal to 1"
   ]
  },
  {
   "cell_type": "code",
   "execution_count": 8,
   "metadata": {},
   "outputs": [],
   "source": [
    "sc.pp.normalize_total(adata, target_sum=1, inplace=True)\n",
    "data_df = adata.to_df()\n",
    "read_data_df = adata.to_df()\n",
    "column_names = data_df.columns"
   ]
  },
  {
   "cell_type": "markdown",
   "metadata": {},
   "source": [
    "# LOUVAIN CLUSTERING"
   ]
  },
  {
   "cell_type": "code",
   "execution_count": null,
   "metadata": {},
   "outputs": [],
   "source": [
    "#Scanpy package is used for louvain clustering \n",
    "#At the first step nearest neighbor with neighbor count =25 have been found out followed by \n",
    "#louvaiun clustering on the initial dataset. This will give the cluster count and cells belonging to their\n",
    "#respective clusters"
   ]
  },
  {
   "cell_type": "code",
   "execution_count": 9,
   "metadata": {},
   "outputs": [
    {
     "name": "stdout",
     "output_type": "stream",
     "text": [
      "computing neighbors\n",
      "WARNING: You’re trying to run this on 13714 dimensions of `.X`, if you really want this, set `use_rep='X'`.\n",
      "         Falling back to preprocessing with `sc.pp.pca` and default params.\n",
      "Note that scikit-learn's randomized PCA might not be exactly reproducible across different computational platforms. For exact reproducibility, choose `svd_solver='arpack'.` This will likely become the Scanpy default in the future.\n",
      "computing PCA with n_comps = 50\n",
      "    finished (0:00:02)\n",
      "    finished (0:00:08)\n",
      "running Louvain clustering\n",
      "    using the \"louvain\" package of Traag (2017)\n",
      "    finished (0:00:01)\n"
     ]
    }
   ],
   "source": [
    "sc.pp.neighbors(adata,n_neighbors=25)\n",
    "sc.tl.louvain(adata)\n",
    "p=np.array(adata.uns['neighbors']['distances'].todense())\n",
    "neighbor_df = pd.DataFrame(p,columns=list(read_data_df.index),index=list(read_data_df.index))\n",
    "louvain_cluster_df=sc.get.obs_df(adata,keys=[\"louvain\"])\n",
    "n_cluster=louvain_cluster_df['louvain'].nunique()\n",
    "size_per_cluster = louvain_cluster_df['louvain'].value_counts()"
   ]
  },
  {
   "cell_type": "markdown",
   "metadata": {},
   "source": [
    "# SUBSAMPLING"
   ]
  },
  {
   "cell_type": "code",
   "execution_count": null,
   "metadata": {},
   "outputs": [],
   "source": [
    "#In order to maintain the proportion of the samples from smaller clusters, an exponential decay function\n",
    "#is used to determine the proportions of the transcriptomes to be sampled from each cluster.Here pl is the \n",
    "#lower bound of the proportion and pu is the upper bound of the proportion, K is the scaling factor.\n",
    "#Random samples are extracted per clusters based on the proportions calcluated."
   ]
  },
  {
   "cell_type": "code",
   "execution_count": 10,
   "metadata": {},
   "outputs": [],
   "source": [
    "pl=0.05\n",
    "pu=0.9\n",
    "k=500\n",
    "prob_per_cluster=[]\n",
    "for i in range(0,n_cluster):\n",
    "    prob_per_cluster.append(pl-np.exp(-(size_per_cluster[i]/k))*(pl-pu))\n",
    "sample_per_cluster=[]\n",
    "for i in range(0,n_cluster):\n",
    "    sample_per_cluster.append(int(prob_per_cluster[i]*size_per_cluster[i]))\n",
    "sampled_df = pd.DataFrame(columns=data_df.columns)\n",
    "left_out_cells=[]\n",
    "for i in range(0,n_cluster):\n",
    "    cells=list(louvain_cluster_df.loc[louvain_cluster_df['louvain'] == str(i)].index)\n",
    "    sample = np.random.choice(cells,sample_per_cluster[i],replace=False)\n",
    "    remainder = list(set(cells)-set(sample))\n",
    "    left_out_cells=left_out_cells+remainder\n",
    "    for smp in sample:\n",
    "        sampled_df=sampled_df.append(data_df.loc[smp])\n",
    "data_df=sampled_df\n",
    "column_names = data_df.columns"
   ]
  },
  {
   "cell_type": "markdown",
   "metadata": {},
   "source": [
    "# TOP PCA GENES"
   ]
  },
  {
   "cell_type": "code",
   "execution_count": null,
   "metadata": {},
   "outputs": [],
   "source": [
    "#In this block top 300 pca genes are selected"
   ]
  },
  {
   "cell_type": "code",
   "execution_count": 11,
   "metadata": {},
   "outputs": [],
   "source": [
    "pca = PCA(n_components=500, svd_solver='full')\n",
    "pca.fit(data_df)\n",
    "rotation_mat = np.transpose(abs(pca.components_)) \n",
    "rotation_matrix_df = pd.DataFrame(rotation_mat,index=column_names)\n",
    "gene_max = rotation_matrix_df.max(axis=1)\n",
    "gene_max=gene_max.sort_values(ascending=False)\n",
    "pca_genes = list(gene_max[:300].index)\n",
    "pca_genes_df = data_df[pca_genes]\n",
    "cell_names = list(pca_genes_df.index.values)\n",
    "column = list(pca_genes_df.columns)\n",
    "pca_genes_df.to_csv('pca_genes_df.csv')"
   ]
  },
  {
   "cell_type": "markdown",
   "metadata": {},
   "source": [
    "# VISUALISE SELECTED GENES "
   ]
  },
  {
   "cell_type": "code",
   "execution_count": 23,
   "metadata": {},
   "outputs": [
    {
     "data": {
      "image/png": "[encoded data removed]",
      "text/plain": [
       "<Figure size 432x288 with 1 Axes>"
      ]
     },
     "metadata": {
      "needs_background": "light"
     },
     "output_type": "display_data"
    }
   ],
   "source": [
    "df=reducer.fit_transform(pca_genes_df)\n",
    "df=pd.DataFrame(df)\n",
    "ax = sns.scatterplot(x=0, y=1, data=df)"
   ]
  },
  {
   "cell_type": "markdown",
   "metadata": {},
   "source": [
    "# TOP VARIABLE GENES INSTEAD OF PCA GENES"
   ]
  },
  {
   "cell_type": "code",
   "execution_count": 18,
   "metadata": {},
   "outputs": [],
   "source": [
    "pca_genes_df = data_df\n",
    "pca_genes_df=pca_genes_df.drop(variable_gene_list,axis=1)\n",
    "cell_names = list(pca_genes_df.index.values)\n",
    "column = list(pca_genes_df.columns)"
   ]
  },
  {
   "cell_type": "markdown",
   "metadata": {},
   "source": [
    "# CELL CELL GRAPH BY ANNOY"
   ]
  },
  {
   "cell_type": "code",
   "execution_count": null,
   "metadata": {},
   "outputs": [],
   "source": [
    "#Spotify annoy package is used to create the cell-cell graph in order to get the nearesr neighbor \n",
    "#of every nodes(cells)"
   ]
  },
  {
   "cell_type": "code",
   "execution_count": 12,
   "metadata": {},
   "outputs": [
    {
     "data": {
      "text/plain": [
       "True"
      ]
     },
     "execution_count": 12,
     "metadata": {},
     "output_type": "execute_result"
    }
   ],
   "source": [
    "f = len(pca_genes_df.columns)\n",
    "t = AnnoyIndex(f, 'angular')  # Length of item vector that will be indexed\n",
    "for i in range(len(pca_genes_df.index)):\n",
    "    v  = pca_genes_df.iloc[i]\n",
    "    t.add_item(i, v)\n",
    "\n",
    "t.build(30) # 10 trees\n",
    "#t.save('test.ann')"
   ]
  },
  {
   "cell_type": "code",
   "execution_count": 13,
   "metadata": {},
   "outputs": [],
   "source": [
    "cell_cell_df = pd.DataFrame(index=[0,1,2,3,4,5])\n",
    "for i in range(len(pca_genes_df.index)):\n",
    "               knn_values = list(t.get_nns_by_item(i,7,include_distances=True))\n",
    "               #cells = knn_values[0]\n",
    "               cell_cell_df[\"item.\"+str(i)]=knn_values[0][1:]\n",
    "               cell_cell_df[\"distance.\"+str(i)] = knn_values[1][1:]\n",
    "cell_graph_column = list(cell_cell_df.columns)"
   ]
  },
  {
   "cell_type": "markdown",
   "metadata": {},
   "source": [
    "# CELL-GENE CONNECTION"
   ]
  },
  {
   "cell_type": "code",
   "execution_count": null,
   "metadata": {},
   "outputs": [],
   "source": [
    "#For every cell top 20 most expressed genes are connected thus forming the cell-gene connections"
   ]
  },
  {
   "cell_type": "code",
   "execution_count": 14,
   "metadata": {},
   "outputs": [
    {
     "name": "stderr",
     "output_type": "stream",
     "text": [
      "C:\\Users\\Swagatam\\Anaconda3\\lib\\site-packages\\ipykernel_launcher.py:16: FutureWarning: set_value is deprecated and will be removed in a future release. Please use .at[] or .iat[] accessors instead\n",
      "  app.launch_new_instance()\n"
     ]
    }
   ],
   "source": [
    "cell_gene_edge_list = []\n",
    "for col in column:\n",
    "    n_cells = pca_genes_df.nlargest(20,col)[col].index.values\n",
    "    \n",
    "    for cell in n_cells:\n",
    "        temp=[]\n",
    "        temp.append(col)\n",
    "        #temp.append(cell_names.index(cell)+1)\n",
    "        temp.append(cell)\n",
    "        temp.append(float(1))\n",
    "        cell_gene_edge_list.append(tuple(temp))\n",
    "        i=5\n",
    "        while(i>=1):\n",
    "            distance=\"distance.\"+str(cell_names.index(cell))\n",
    "            if cell_cell_df.iloc[i][distance]!=999:\n",
    "                cell_cell_df.set_value(i,distance,999)\n",
    "                break\n",
    "            else:\n",
    "                i=i-1\n",
    "G_normalized.add_weighted_edges_from(cell_gene_edge_list)"
   ]
  },
  {
   "cell_type": "markdown",
   "metadata": {},
   "source": [
    "# CELL -CELL WITHOUT DROPPING CELL CONNECTIONS"
   ]
  },
  {
   "cell_type": "code",
   "execution_count": null,
   "metadata": {},
   "outputs": [],
   "source": [
    "#For every cell nearest 7 nodes(cells) are connected to form the cell-cell connections"
   ]
  },
  {
   "cell_type": "code",
   "execution_count": 15,
   "metadata": {},
   "outputs": [
    {
     "name": "stdout",
     "output_type": "stream",
     "text": [
      "6765 0\n"
     ]
    }
   ],
   "source": [
    "cell_cell_edge_list=[]\n",
    "c=0\n",
    "g=0\n",
    "for col in cell_graph_column:\n",
    "    if \"distance\" in col or \"Unnamed\" in col:\n",
    "        continue\n",
    "    else:\n",
    "        if col==\"item\":\n",
    "            distance=\"distance\"\n",
    "        else:\n",
    "            distance=\"distance.\"+str(col[5:])\n",
    "        for i in range(1,6):\n",
    "            temp_edge=[]\n",
    "            #if cell_cell_df.iloc[i][distance]!=999:\n",
    "            temp = list(cell_cell_df[\"distance.\"+str(int(cell_cell_df.iloc[i][col]))])\n",
    "                #if col[5:] not in temp or (col[5:] in temp and col[5:]!=999):\n",
    "            #temp_edge.append(str(int(col[5:])+1))\n",
    "            #temp_edge.append(str(int(cell_cell_df.iloc[i][col])))\n",
    "            temp_edge.append(pca_genes_df.index[int(col[5:])])\n",
    "            temp_edge.append(pca_genes_df.index[int(cell_cell_df.iloc[i][col])])\n",
    "            temp_edge.append(float(1))\n",
    "                    #if len(temp_edge) !=0:\n",
    "            cell_cell_edge_list.append(tuple(temp_edge))\n",
    "            c=c+1\n",
    "                        #print(temp_edge)\n",
    "                #else:\n",
    "                #    g=g+1\n",
    "G_normalized.add_weighted_edges_from(cell_cell_edge_list)\n",
    "print(c,g)"
   ]
  },
  {
   "cell_type": "markdown",
   "metadata": {},
   "source": [
    "# CONNECTION CHECK"
   ]
  },
  {
   "cell_type": "code",
   "execution_count": null,
   "metadata": {},
   "outputs": [],
   "source": [
    "cc=0\n",
    "cg=0\n",
    "gg=0\n",
    "for (node1,node2) in G_normalized.edges:\n",
    "    node1= str(node1)\n",
    "    node2=str(node2)\n",
    "    if node1.isnumeric() and node2.isnumeric():\n",
    "        cc=cc+1\n",
    "    if (node1.isnumeric() and not node2.isnumeric()) or (not node1.isnumeric() and node2.isnumeric()):\n",
    "        cg = cg+1\n",
    "    if not node1.isnumeric() and not node2.isnumeric():\n",
    "        gg=gg+1\n",
    "print(cc,cg,gg)"
   ]
  },
  {
   "cell_type": "markdown",
   "metadata": {},
   "source": [
    "# WRITE GRAPH"
   ]
  },
  {
   "cell_type": "code",
   "execution_count": null,
   "metadata": {},
   "outputs": [],
   "source": [
    "#The graph created above is saved in the form of gexf file and the nearest neighbor nodes from each nodes \n",
    "# is also saved in the form of csv format."
   ]
  },
  {
   "cell_type": "code",
   "execution_count": 16,
   "metadata": {},
   "outputs": [],
   "source": [
    "nx.write_gexf(G_normalized, \"C:/Users/Swagatam/IdeaProjects/openOrd/graphs/graph_normalized_own_cc.gexf\")\n",
    "neighbor_df=neighbor_df.drop(list(sampled_df.index),axis=0)\n",
    "neighbor_df=neighbor_df.drop(left_out_cells,axis=1)\n",
    "neighbor_df.to_csv('neighbor.csv')"
   ]
  },
  {
   "cell_type": "markdown",
   "metadata": {},
   "source": [
    "# OPENORD LAYOUT"
   ]
  },
  {
   "cell_type": "code",
   "execution_count": null,
   "metadata": {},
   "outputs": [],
   "source": [
    "#in this block the java code is run in the form of jar file which embeds the openord layout\n",
    "#over the graph obtained above."
   ]
  },
  {
   "cell_type": "code",
   "execution_count": null,
   "metadata": {},
   "outputs": [],
   "source": [
    "subprocess.call(['java', '-jar', 'openOrd.jar',out_path+'graph_normalized_own_cc.gexf',out_path+'output_normalized_own_cc.csv'])"
   ]
  }
 ],
 "metadata": {
  "kernelspec": {
   "display_name": "Python 3",
   "language": "python",
   "name": "python3"
  },
  "language_info": {
   "codemirror_mode": {
    "name": "ipython",
    "version": 3
   },
   "file_extension": ".py",
   "mimetype": "text/x-python",
   "name": "python",
   "nbconvert_exporter": "python",
   "pygments_lexer": "ipython3",
   "version": "3.7.3"
  }
 },
 "nbformat": 4,
 "nbformat_minor": 2
}
